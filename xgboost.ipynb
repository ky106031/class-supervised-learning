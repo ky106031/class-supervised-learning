{
 "cells": [
  {
   "cell_type": "markdown",
   "id": "26f4f5eb",
   "metadata": {},
   "source": [
    "# XGBoost"
   ]
  },
  {
   "cell_type": "code",
   "execution_count": null,
   "id": "400b481f",
   "metadata": {},
   "outputs": [],
   "source": [
    "from xgboost import XGBClassifier\n",
    "from sklearn.datasets import fetch_openml  # データセットのダウンロード取得用\n",
    "import pandas as pd  # データフレーム操作用\n",
    "import matplotlib.pyplot as plt  # グラフ描画用"
   ]
  },
  {
   "cell_type": "code",
   "execution_count": null,
   "id": "3c4b29a8",
   "metadata": {},
   "outputs": [],
   "source": [
    "# 1. データセットの取得\n",
    "dataset = fetch_openml(\"pima-indians-diabetes\", version=1, as_frame=True)  # Pimaデータセットを取得\n",
    "# こんな感じのデータです．8変数の説明変数．Outcomeは0 or 1\n",
    "dataset.frame.head()  # データフレームの最初の5行を表示"
   ]
  },
  {
   "cell_type": "markdown",
   "id": "9d910d2e",
   "metadata": {},
   "source": []
  },
  {
   "cell_type": "code",
   "execution_count": null,
   "id": "6001aa16",
   "metadata": {},
   "outputs": [],
   "source": [
    "# 1.1 参考までに相関行列を表示\n",
    "corr = dataset.frame.corr()\n",
    "# 相関行列をヒートマップで表示．有効数字2桁\n",
    "corr.style.format(precision=2).background_gradient(cmap=\"coolwarm\")"
   ]
  },
  {
   "cell_type": "code",
   "execution_count": null,
   "id": "9670b1e4",
   "metadata": {},
   "outputs": [],
   "source": [
    "# 2. 説明変数をX，目的変数をyに分ける\n",
    "X = dataset.data\n",
    "y = dataset.target.astype(\"int\")  # 目的変数は整数型に変換\n",
    "\n",
    "# こっちの方が汎用性が高いです．PandasのDataFrameから変換する方法\n",
    "df = dataset.frame\n",
    "X = df.drop(columns=[\"Outcome\"])  # Outcome列を除外\n",
    "y = df[\"Outcome\"].astype(int)  # Outcome列を抽出 & 整数型に変換"
   ]
  },
  {
   "cell_type": "code",
   "execution_count": null,
   "id": "4af2e6e5",
   "metadata": {},
   "outputs": [],
   "source": [
    "# 3. 訓練データとテストデータに分割\n",
    "from sklearn.model_selection import train_test_split  # データ分割用\n",
    "X_train, X_test, y_train, y_test = train_test_split(X, y, test_size=0.2, random_state=500)  # 80%訓練，20%テスト"
   ]
  },
  {
   "cell_type": "code",
   "execution_count": null,
   "id": "f706ccfe",
   "metadata": {},
   "outputs": [],
   "source": [
    "# 4. xgboostを使って学習\n",
    "model = XGBClassifier(\n",
    "    n_estimators=100,  # 木の数\n",
    "    max_depth=3,  # 木の深さ\n",
    "    learning_rate=0.1,  # 学習率\n",
    "    random_state=100,  # 再現性のための乱数シード\n",
    ")\n",
    "model.fit(X_train, y_train)  # 訓練データで学習\n"
   ]
  },
  {
   "cell_type": "code",
   "execution_count": null,
   "id": "38193bca",
   "metadata": {},
   "outputs": [],
   "source": [
    "# 5. テストデータで予測\n",
    "y_pred = model.predict(X_test)  # 予測\n",
    "# 6. 精度を評価\n",
    "from sklearn.metrics import accuracy_score  # 精度評価用\n",
    "accuracy = accuracy_score(y_test, y_pred)  # 精度計算\n",
    "print(f\"Accuracy: {accuracy:.3f}\")  # 精度を表示(小数点以下3桁)"
   ]
  },
  {
   "cell_type": "code",
   "execution_count": null,
   "id": "7abc80ac",
   "metadata": {},
   "outputs": [],
   "source": [
    "# 7. 混同行列を表示\n",
    "from sklearn.metrics import confusion_matrix  # 混同行列用\n",
    "cm = confusion_matrix(y_test, y_pred)  # 混同行列を計算\n",
    "plt.matshow(cm, cmap=\"Blues\")  # 混同行列をヒートマップで表示\n",
    "for i in range(cm.shape[0]):\n",
    "    for j in range(cm.shape[1]):\n",
    "        plt.text(x=j, y=i, s=cm[i, j])"
   ]
  },
  {
   "cell_type": "code",
   "execution_count": null,
   "id": "751b4877",
   "metadata": {},
   "outputs": [],
   "source": [
    "# 8. 特徴量の重要度を表示\n",
    "importances = model.feature_importances_  # 特徴量の重要度を取得\n",
    "# 特徴量の重要度をデータフレームに変換\n",
    "importance_df = pd.DataFrame(\n",
    "    {\n",
    "        \"feature\": X.columns,  # 特徴量名\n",
    "        \"importance\": importances,  # 特徴量の重要度\n",
    "    }\n",
    ")\n",
    "importance_df = importance_df.sort_values(by=\"importance\", ascending=False)  # 重要度でソート\n",
    "# 特徴量の重要度を棒グラフで表示\n",
    "importance_df.plot(\n",
    "    kind=\"barh\",  # 横棒グラフ\n",
    "    x=\"feature\",  # x軸は特徴量名\n",
    "    y=\"importance\",  # y軸は重要度\n",
    "    title=\"Feature Importance\",  # タイトル\n",
    "    figsize=(10, 6),  # サイズ\n",
    ")\n",
    "plt.xlabel(\"Importance\")  # x軸ラベル\n",
    "plt.ylabel(\"Feature\")  # y軸ラベル"
   ]
  },
  {
   "cell_type": "code",
   "execution_count": null,
   "id": "f885d78e",
   "metadata": {},
   "outputs": [],
   "source": [
    "# おまけ\n",
    "\n",
    "# ipywidgetで dataset.feature_namesの8変数をスライダーで指定して，その変数の値を使って予測する\n",
    "# 9. ipywidgetでスライダーを作成\n",
    "from ipywidgets import interact, FloatSlider  # スライダー作成用\n",
    "import numpy as np  # 数値計算用\n",
    "\n",
    "# スライダーの範囲を指定\n",
    "def create_slider(name, min_value, max_value):\n",
    "    return FloatSlider(value=(min_value + max_value) / 2, min=min_value, max=max_value, step=0.1, description=name)\n",
    "\n",
    "# スライダーの値を使って予測する関数\n",
    "def predict_with_sliders(**kwargs):\n",
    "    # スライダーの値を使って予測\n",
    "    input_data = pd.DataFrame({name: [kwargs[name]] for name in dataset.feature_names})\n",
    "    prediction = model.predict_proba(input_data)  # 確率(ぽい何か)を予測\n",
    "    print(f\"Prediction: {prediction[0][1]:.2f}\")  # 予測結果を表示\n",
    "\n",
    "# スライダーを作成\n",
    "sliders = {name: create_slider(name, X[name].min(), X[name].max()) for name in dataset.feature_names}  # スライダーを作成\n",
    "\n",
    "# スライダーを表示\n",
    "interact(predict_with_sliders, **sliders)  # スライダーを表示\n"
   ]
  },
  {
   "cell_type": "code",
   "execution_count": null,
   "id": "8dbe45d5",
   "metadata": {},
   "outputs": [],
   "source": []
  },
  {
   "cell_type": "code",
   "execution_count": null,
   "id": "7ceee0c6",
   "metadata": {},
   "outputs": [],
   "source": []
  }
 ],
 "metadata": {
  "kernelspec": {
   "display_name": "myenv",
   "language": "python",
   "name": "python3"
  },
  "language_info": {
   "codemirror_mode": {
    "name": "ipython",
    "version": 3
   },
   "file_extension": ".py",
   "mimetype": "text/x-python",
   "name": "python",
   "nbconvert_exporter": "python",
   "pygments_lexer": "ipython3",
   "version": "3.12.8"
  }
 },
 "nbformat": 4,
 "nbformat_minor": 5
}
